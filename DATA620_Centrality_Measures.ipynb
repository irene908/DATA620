{
 "cells": [
  {
   "cell_type": "markdown",
   "metadata": {},
   "source": [
    "# Assignment Centrality Measures\n",
    "\n",
    "### Goal\n",
    "\n",
    "Centrality measures can be used to predict (positive or negative) outcomes for a node.\n",
    "\n",
    "Your task in this week’s assignment is to identify an interesting set of network data that is available on the web (either through web scraping or web APIs) that could be used for analyzing and comparing centrality measures across nodes.  As an additional constraint, there should be at least one categorical variable available for each node (such as “Male” or “Female”; “Republican”, “Democrat,” or “Undecided”, etc.)\n",
    "\n",
    "In addition to identifying your data source, you should create a high level plan that describes how you would load the data for analysis, and describe a hypothetical outcome that could be predicted from comparing degree centrality across categorical groups. \n",
    "\n",
    "For this week’s assignment, you are not required to actually load or analyze the data."
   ]
  },
  {
   "cell_type": "markdown",
   "metadata": {},
   "source": [
    "**Getting the data**\n",
    "\n",
    "I selected the **Word adjacencies** dataset from http://www-personal.umich.edu/~mejn/netdata/ for this assignment.\n",
    "\n",
    "This dataset is an adjacency network of common adjectives and nouns in the novel **David Copperfield by Charles Dickens**.\n",
    "\n",
    "There are 112 nodes in this dataset and each node has value of either 0 or 1. 58 Nodes have value as 0 and 54 Nodes have value as 1.\n",
    "\n",
    "After loading the data I will analyse it to see the different centrality properties it exhibits.\n",
    "\n",
    "Next I will clean the data and take a subset of it to work with and with the help of networkX I will convert it into a network and draw it to see how it looks.\n",
    "\n",
    "Now I will analyse the data and conclude with the centrality properties that the network exhibits."
   ]
  }
 ],
 "metadata": {
  "kernelspec": {
   "display_name": "Python 3",
   "language": "python",
   "name": "python3"
  },
  "language_info": {
   "codemirror_mode": {
    "name": "ipython",
    "version": 3
   },
   "file_extension": ".py",
   "mimetype": "text/x-python",
   "name": "python",
   "nbconvert_exporter": "python",
   "pygments_lexer": "ipython3",
   "version": "3.8.5"
  }
 },
 "nbformat": 4,
 "nbformat_minor": 4
}

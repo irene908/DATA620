{
 "cells": [
  {
   "cell_type": "markdown",
   "metadata": {},
   "source": [
    "# Project 3\n",
    "\n",
    "**Goal**\n",
    "\n",
    "Using any of the three classifiers described in chapter 6 of Natural Language Processing with Python, and any features you can think of, build the best name gender classifier you can.\n",
    "\n",
    "Begin by splitting the Names Corpus into three subsets: 500 words for the test set, 500 words for the dev-test set, and the remaining 6900 words for the training set. Then, starting with the example name gender classifier, make incremental improvements. Use the dev-test set to check your progress. Once you are satisfied with your classifier, check its final performance on the test set.\n",
    "\n",
    "How does the performance on the test set compare to the performance on the dev-test set? Is this what you'd expect?\n",
    "\n",
    "Source: Natural Language Processing with Python, exercise 6.10.2."
   ]
  },
  {
   "cell_type": "code",
   "execution_count": 1,
   "metadata": {},
   "outputs": [],
   "source": [
    "import pandas as pd\n",
    "import matplotlib.pyplot as plt\n",
    "import nltk\n",
    "from nltk.corpus import names \n",
    "import random\n",
    "from IPython.display import display, HTML"
   ]
  },
  {
   "cell_type": "markdown",
   "metadata": {},
   "source": [
    "**Load the Corpus**\n",
    "\n",
    "The name gender classifier is loaded then shuffled.\n",
    "\n",
    "The length of the data is displayed below."
   ]
  },
  {
   "cell_type": "code",
   "execution_count": 2,
   "metadata": {},
   "outputs": [
    {
     "data": {
      "text/plain": [
       "7944"
      ]
     },
     "execution_count": 2,
     "metadata": {},
     "output_type": "execute_result"
    }
   ],
   "source": [
    "random.seed(123)\n",
    "n = ([(name, 'male') for name in names.words('male.txt')] + [(name, 'female') for name in names.words('female.txt')])\n",
    "random.shuffle(n)\n",
    "len(n)"
   ]
  },
  {
   "cell_type": "markdown",
   "metadata": {},
   "source": [
    "**Display the head records**"
   ]
  },
  {
   "cell_type": "code",
   "execution_count": 5,
   "metadata": {},
   "outputs": [
    {
     "data": {
      "text/plain": [
       "[('Cordelie', 'female'),\n",
       " ('Peggie', 'female'),\n",
       " ('Solange', 'female'),\n",
       " ('Rana', 'female'),\n",
       " ('Jessy', 'female')]"
      ]
     },
     "execution_count": 5,
     "metadata": {},
     "output_type": "execute_result"
    }
   ],
   "source": [
    "n[:5]"
   ]
  },
  {
   "cell_type": "markdown",
   "metadata": {},
   "source": [
    "**Splitting the corpus**\n",
    "\n",
    "500 words for the test set, 500 words for the dev-test set, and the remaining words for the training set.\n",
    "\n",
    "The length of each set is displayed below."
   ]
  },
  {
   "cell_type": "code",
   "execution_count": 6,
   "metadata": {},
   "outputs": [
    {
     "name": "stdout",
     "output_type": "stream",
     "text": [
      "Length of Test set: 500 , Length of Dev Test set: 500 , Length of Train set 6944\n"
     ]
    }
   ],
   "source": [
    "test,devtest,train = n[:500],n[500:1000],n[1000:]\n",
    "print(\"Length of Test set:\",len(test),\",\",\"Length of Dev Test set:\", len(devtest),\",\",\"Length of Train set\", len(train))"
   ]
  },
  {
   "cell_type": "markdown",
   "metadata": {},
   "source": [
    "**Selecting Features**\n",
    "\n",
    "Starting by selecting the features. I have chosen 5 features to explore. The features are as follows:\n",
    "\n",
    "1. First Letter: *The first letter of each word is analysed*\n",
    "2. Last letter: *The last letter of each word is analysed*\n",
    "3. First letter, last letter: *The first and the last letters of each word is analysed*\n",
    "4. First letter, last letter and second last: *The first and the 2 last letters of each word is analysed*\n",
    "5. first letter, last letter and second and third last: *The first and the 3 last letters of each word is analysed*\n",
    "\n",
    "*infer* dataframe contains the devtest and test performance data of all the 5 features."
   ]
  },
  {
   "cell_type": "code",
   "execution_count": 7,
   "metadata": {},
   "outputs": [],
   "source": [
    "infer = pd.DataFrame(index=['Devtest Accuracy','Test Performamce'])"
   ]
  },
  {
   "cell_type": "markdown",
   "metadata": {},
   "source": [
    "Error Function"
   ]
  },
  {
   "cell_type": "code",
   "execution_count": 8,
   "metadata": {},
   "outputs": [],
   "source": [
    "def error_fn(gf):\n",
    "    errors = []\n",
    "    for (name, tag) in devtest:\n",
    "        guess = classifier.classify(gf(name))\n",
    "        if guess != tag:\n",
    "            errors.append( (tag, guess, name) )\n",
    "    return errors"
   ]
  },
  {
   "cell_type": "markdown",
   "metadata": {},
   "source": [
    "**Feature 1**\n",
    "\n",
    "First Letter: *The first letter of each word is analysed*\n",
    "\n",
    "The below function returns the first letter of each word"
   ]
  },
  {
   "cell_type": "code",
   "execution_count": 9,
   "metadata": {},
   "outputs": [],
   "source": [
    "def gender_features4(word):\n",
    "    return {'first_letter': word[0]}"
   ]
  },
  {
   "cell_type": "markdown",
   "metadata": {},
   "source": [
    "**Naive Bayes used for training on feature 1**\n",
    "\n",
    "NaiveBayesClassifier is used on the train set and the accuracy is tested on the devtest set. I am testing the performance with test set as well to analyse the results later on."
   ]
  },
  {
   "cell_type": "code",
   "execution_count": 10,
   "metadata": {},
   "outputs": [
    {
     "name": "stdout",
     "output_type": "stream",
     "text": [
      "Devtest accuracy 0.624\n",
      "Performance on the test set for feature 1: 0.646\n"
     ]
    },
    {
     "data": {
      "text/html": [
       "<div>\n",
       "<style scoped>\n",
       "    .dataframe tbody tr th:only-of-type {\n",
       "        vertical-align: middle;\n",
       "    }\n",
       "\n",
       "    .dataframe tbody tr th {\n",
       "        vertical-align: top;\n",
       "    }\n",
       "\n",
       "    .dataframe thead th {\n",
       "        text-align: right;\n",
       "    }\n",
       "</style>\n",
       "<table border=\"1\" class=\"dataframe\">\n",
       "  <thead>\n",
       "    <tr style=\"text-align: right;\">\n",
       "      <th></th>\n",
       "      <th>Observed</th>\n",
       "      <th>Predicted</th>\n",
       "      <th>Name</th>\n",
       "    </tr>\n",
       "  </thead>\n",
       "  <tbody>\n",
       "    <tr>\n",
       "      <th>0</th>\n",
       "      <td>male</td>\n",
       "      <td>female</td>\n",
       "      <td>Dugan</td>\n",
       "    </tr>\n",
       "    <tr>\n",
       "      <th>1</th>\n",
       "      <td>male</td>\n",
       "      <td>female</td>\n",
       "      <td>Park</td>\n",
       "    </tr>\n",
       "    <tr>\n",
       "      <th>2</th>\n",
       "      <td>male</td>\n",
       "      <td>female</td>\n",
       "      <td>Ferinand</td>\n",
       "    </tr>\n",
       "    <tr>\n",
       "      <th>3</th>\n",
       "      <td>female</td>\n",
       "      <td>male</td>\n",
       "      <td>Ulrike</td>\n",
       "    </tr>\n",
       "    <tr>\n",
       "      <th>4</th>\n",
       "      <td>male</td>\n",
       "      <td>female</td>\n",
       "      <td>Lawrence</td>\n",
       "    </tr>\n",
       "    <tr>\n",
       "      <th>...</th>\n",
       "      <td>...</td>\n",
       "      <td>...</td>\n",
       "      <td>...</td>\n",
       "    </tr>\n",
       "    <tr>\n",
       "      <th>183</th>\n",
       "      <td>male</td>\n",
       "      <td>female</td>\n",
       "      <td>Fabio</td>\n",
       "    </tr>\n",
       "    <tr>\n",
       "      <th>184</th>\n",
       "      <td>male</td>\n",
       "      <td>female</td>\n",
       "      <td>Rickie</td>\n",
       "    </tr>\n",
       "    <tr>\n",
       "      <th>185</th>\n",
       "      <td>male</td>\n",
       "      <td>female</td>\n",
       "      <td>Pooh</td>\n",
       "    </tr>\n",
       "    <tr>\n",
       "      <th>186</th>\n",
       "      <td>male</td>\n",
       "      <td>female</td>\n",
       "      <td>Jehu</td>\n",
       "    </tr>\n",
       "    <tr>\n",
       "      <th>187</th>\n",
       "      <td>male</td>\n",
       "      <td>female</td>\n",
       "      <td>Guthrey</td>\n",
       "    </tr>\n",
       "  </tbody>\n",
       "</table>\n",
       "<p>188 rows × 3 columns</p>\n",
       "</div>"
      ],
      "text/plain": [
       "    Observed Predicted      Name\n",
       "0       male    female     Dugan\n",
       "1       male    female      Park\n",
       "2       male    female  Ferinand\n",
       "3     female      male    Ulrike\n",
       "4       male    female  Lawrence\n",
       "..       ...       ...       ...\n",
       "183     male    female     Fabio\n",
       "184     male    female    Rickie\n",
       "185     male    female      Pooh\n",
       "186     male    female      Jehu\n",
       "187     male    female   Guthrey\n",
       "\n",
       "[188 rows x 3 columns]"
      ]
     },
     "metadata": {},
     "output_type": "display_data"
    }
   ],
   "source": [
    "train_set = [(gender_features4(n), g) for (n,g) in train]\n",
    "devtest_set = [(gender_features4(n), g) for (n,g) in devtest]\n",
    "classifier = nltk.NaiveBayesClassifier.train(train_set)\n",
    "x=nltk.classify.accuracy(classifier, devtest_set)\n",
    "print(\"Devtest accuracy\",x)\n",
    "test_set=[(gender_features4(n), g) for (n,g) in test]\n",
    "y=nltk.classify.accuracy(classifier, test_set)\n",
    "print(\"Performance on the test set for feature 1:\",y)\n",
    "errors=error_fn(gender_features4)\n",
    "error_df=pd.DataFrame(errors,columns=['Observed','Predicted','Name'])\n",
    "display(error_df)\n",
    "len(error_df)\n",
    "infer[0]=[x,y]"
   ]
  },
  {
   "cell_type": "markdown",
   "metadata": {},
   "source": [
    "**Feature 2**\n",
    "\n",
    "Last letter: *The last letter of each word is analysed*\n",
    "\n",
    "The below function returns the last letter of each word"
   ]
  },
  {
   "cell_type": "code",
   "execution_count": 11,
   "metadata": {},
   "outputs": [],
   "source": [
    "def gender_features(word):\n",
    "    return {'last_letter': word[-1]}"
   ]
  },
  {
   "cell_type": "markdown",
   "metadata": {},
   "source": [
    "**Naive Bayes used for training on feature 2**\n",
    "\n",
    "NaiveBayesClassifier is used on the train set and the accuracy is tested on the devtest set. I am testing the performance with test set as well to analyse the results later on."
   ]
  },
  {
   "cell_type": "code",
   "execution_count": 12,
   "metadata": {},
   "outputs": [
    {
     "name": "stdout",
     "output_type": "stream",
     "text": [
      "Devtest accuracy 0.78\n",
      "Performance on the test set for feature 1: 0.778\n"
     ]
    },
    {
     "data": {
      "text/html": [
       "<div>\n",
       "<style scoped>\n",
       "    .dataframe tbody tr th:only-of-type {\n",
       "        vertical-align: middle;\n",
       "    }\n",
       "\n",
       "    .dataframe tbody tr th {\n",
       "        vertical-align: top;\n",
       "    }\n",
       "\n",
       "    .dataframe thead th {\n",
       "        text-align: right;\n",
       "    }\n",
       "</style>\n",
       "<table border=\"1\" class=\"dataframe\">\n",
       "  <thead>\n",
       "    <tr style=\"text-align: right;\">\n",
       "      <th></th>\n",
       "      <th>Observed</th>\n",
       "      <th>Predicted</th>\n",
       "      <th>Name</th>\n",
       "    </tr>\n",
       "  </thead>\n",
       "  <tbody>\n",
       "    <tr>\n",
       "      <th>0</th>\n",
       "      <td>female</td>\n",
       "      <td>male</td>\n",
       "      <td>Annabal</td>\n",
       "    </tr>\n",
       "    <tr>\n",
       "      <th>1</th>\n",
       "      <td>male</td>\n",
       "      <td>female</td>\n",
       "      <td>Lawrence</td>\n",
       "    </tr>\n",
       "    <tr>\n",
       "      <th>2</th>\n",
       "      <td>female</td>\n",
       "      <td>male</td>\n",
       "      <td>Sam</td>\n",
       "    </tr>\n",
       "    <tr>\n",
       "      <th>3</th>\n",
       "      <td>female</td>\n",
       "      <td>male</td>\n",
       "      <td>Margo</td>\n",
       "    </tr>\n",
       "    <tr>\n",
       "      <th>4</th>\n",
       "      <td>male</td>\n",
       "      <td>female</td>\n",
       "      <td>Saxe</td>\n",
       "    </tr>\n",
       "    <tr>\n",
       "      <th>...</th>\n",
       "      <td>...</td>\n",
       "      <td>...</td>\n",
       "      <td>...</td>\n",
       "    </tr>\n",
       "    <tr>\n",
       "      <th>105</th>\n",
       "      <td>female</td>\n",
       "      <td>male</td>\n",
       "      <td>Ardys</td>\n",
       "    </tr>\n",
       "    <tr>\n",
       "      <th>106</th>\n",
       "      <td>male</td>\n",
       "      <td>female</td>\n",
       "      <td>Pooh</td>\n",
       "    </tr>\n",
       "    <tr>\n",
       "      <th>107</th>\n",
       "      <td>male</td>\n",
       "      <td>female</td>\n",
       "      <td>Guthrey</td>\n",
       "    </tr>\n",
       "    <tr>\n",
       "      <th>108</th>\n",
       "      <td>female</td>\n",
       "      <td>male</td>\n",
       "      <td>Vivian</td>\n",
       "    </tr>\n",
       "    <tr>\n",
       "      <th>109</th>\n",
       "      <td>female</td>\n",
       "      <td>male</td>\n",
       "      <td>Cristin</td>\n",
       "    </tr>\n",
       "  </tbody>\n",
       "</table>\n",
       "<p>110 rows × 3 columns</p>\n",
       "</div>"
      ],
      "text/plain": [
       "    Observed Predicted      Name\n",
       "0     female      male   Annabal\n",
       "1       male    female  Lawrence\n",
       "2     female      male       Sam\n",
       "3     female      male     Margo\n",
       "4       male    female      Saxe\n",
       "..       ...       ...       ...\n",
       "105   female      male     Ardys\n",
       "106     male    female      Pooh\n",
       "107     male    female   Guthrey\n",
       "108   female      male    Vivian\n",
       "109   female      male   Cristin\n",
       "\n",
       "[110 rows x 3 columns]"
      ]
     },
     "metadata": {},
     "output_type": "display_data"
    }
   ],
   "source": [
    "train_set = [(gender_features(n), g) for (n,g) in train]\n",
    "devtest_set = [(gender_features(n), g) for (n,g) in devtest]\n",
    "classifier = nltk.NaiveBayesClassifier.train(train_set)\n",
    "x=nltk.classify.accuracy(classifier, devtest_set)\n",
    "print(\"Devtest accuracy\",x)\n",
    "test_set=[(gender_features(n), g) for (n,g) in test]\n",
    "y=nltk.classify.accuracy(classifier, test_set)\n",
    "print(\"Performance on the test set for feature 1:\",y)\n",
    "errors=error_fn(gender_features)\n",
    "error_df=pd.DataFrame(errors,columns=['Observed','Predicted','Name'])\n",
    "display(error_df)\n",
    "len(error_df)\n",
    "infer[1]=[x,y]"
   ]
  },
  {
   "cell_type": "markdown",
   "metadata": {},
   "source": [
    "**Feature 3**\n",
    "\n",
    "First letter, last letter: *The first and the last letters of each word is analysed*\n",
    "\n",
    "The below function returns the first and last letters of the word as a dictionary *features*"
   ]
  },
  {
   "cell_type": "code",
   "execution_count": 13,
   "metadata": {},
   "outputs": [],
   "source": [
    "def gender_features1(name):\n",
    "    features = {}\n",
    "    features[\"firstletter\"] = name[0].lower()\n",
    "    features[\"lastletter\"] = name[-1].lower()\n",
    "    for letter in 'abcdefghijklmnopqrstuvwxyz':\n",
    "        features[\"count(%s)\" % letter] = name.lower().count(letter)\n",
    "        features[\"has(%s)\" % letter] = (letter in name.lower())\n",
    "    return features"
   ]
  },
  {
   "cell_type": "markdown",
   "metadata": {},
   "source": [
    "**Naive Bayes used for training on feature 3**\n",
    "\n",
    "NaiveBayesClassifier is used on the train set and the accuracy is tested on the devtest set. I am testing the performance with test set as well to analyse the results later on."
   ]
  },
  {
   "cell_type": "code",
   "execution_count": 14,
   "metadata": {},
   "outputs": [
    {
     "name": "stdout",
     "output_type": "stream",
     "text": [
      "Devtest accuracy 0.782\n",
      "Performance on the test set for feature 2: 0.796\n"
     ]
    },
    {
     "data": {
      "text/html": [
       "<div>\n",
       "<style scoped>\n",
       "    .dataframe tbody tr th:only-of-type {\n",
       "        vertical-align: middle;\n",
       "    }\n",
       "\n",
       "    .dataframe tbody tr th {\n",
       "        vertical-align: top;\n",
       "    }\n",
       "\n",
       "    .dataframe thead th {\n",
       "        text-align: right;\n",
       "    }\n",
       "</style>\n",
       "<table border=\"1\" class=\"dataframe\">\n",
       "  <thead>\n",
       "    <tr style=\"text-align: right;\">\n",
       "      <th></th>\n",
       "      <th>Observed</th>\n",
       "      <th>Predicted</th>\n",
       "      <th>Name</th>\n",
       "    </tr>\n",
       "  </thead>\n",
       "  <tbody>\n",
       "    <tr>\n",
       "      <th>0</th>\n",
       "      <td>female</td>\n",
       "      <td>male</td>\n",
       "      <td>Ulrike</td>\n",
       "    </tr>\n",
       "    <tr>\n",
       "      <th>1</th>\n",
       "      <td>male</td>\n",
       "      <td>female</td>\n",
       "      <td>Lawrence</td>\n",
       "    </tr>\n",
       "    <tr>\n",
       "      <th>2</th>\n",
       "      <td>female</td>\n",
       "      <td>male</td>\n",
       "      <td>Daffy</td>\n",
       "    </tr>\n",
       "    <tr>\n",
       "      <th>3</th>\n",
       "      <td>female</td>\n",
       "      <td>male</td>\n",
       "      <td>Sam</td>\n",
       "    </tr>\n",
       "    <tr>\n",
       "      <th>4</th>\n",
       "      <td>female</td>\n",
       "      <td>male</td>\n",
       "      <td>Margo</td>\n",
       "    </tr>\n",
       "    <tr>\n",
       "      <th>...</th>\n",
       "      <td>...</td>\n",
       "      <td>...</td>\n",
       "      <td>...</td>\n",
       "    </tr>\n",
       "    <tr>\n",
       "      <th>104</th>\n",
       "      <td>female</td>\n",
       "      <td>male</td>\n",
       "      <td>Delores</td>\n",
       "    </tr>\n",
       "    <tr>\n",
       "      <th>105</th>\n",
       "      <td>male</td>\n",
       "      <td>female</td>\n",
       "      <td>Nickolas</td>\n",
       "    </tr>\n",
       "    <tr>\n",
       "      <th>106</th>\n",
       "      <td>female</td>\n",
       "      <td>male</td>\n",
       "      <td>Penny</td>\n",
       "    </tr>\n",
       "    <tr>\n",
       "      <th>107</th>\n",
       "      <td>male</td>\n",
       "      <td>female</td>\n",
       "      <td>Rickie</td>\n",
       "    </tr>\n",
       "    <tr>\n",
       "      <th>108</th>\n",
       "      <td>female</td>\n",
       "      <td>male</td>\n",
       "      <td>Ardys</td>\n",
       "    </tr>\n",
       "  </tbody>\n",
       "</table>\n",
       "<p>109 rows × 3 columns</p>\n",
       "</div>"
      ],
      "text/plain": [
       "    Observed Predicted      Name\n",
       "0     female      male    Ulrike\n",
       "1       male    female  Lawrence\n",
       "2     female      male     Daffy\n",
       "3     female      male       Sam\n",
       "4     female      male     Margo\n",
       "..       ...       ...       ...\n",
       "104   female      male   Delores\n",
       "105     male    female  Nickolas\n",
       "106   female      male     Penny\n",
       "107     male    female    Rickie\n",
       "108   female      male     Ardys\n",
       "\n",
       "[109 rows x 3 columns]"
      ]
     },
     "metadata": {},
     "output_type": "display_data"
    }
   ],
   "source": [
    "train_set = [(gender_features1(n), g) for (n,g) in train]\n",
    "devtest_set = [(gender_features1(n), g) for (n,g) in devtest]\n",
    "classifier = nltk.NaiveBayesClassifier.train(train_set)\n",
    "x=nltk.classify.accuracy(classifier, devtest_set)\n",
    "print(\"Devtest accuracy\",x)\n",
    "test_set=[(gender_features1(n), g) for (n,g) in test]\n",
    "y=nltk.classify.accuracy(classifier, test_set)\n",
    "print(\"Performance on the test set for feature 2:\",y)\n",
    "errors=error_fn(gender_features1)\n",
    "error_df=pd.DataFrame(errors,columns=['Observed','Predicted','Name'])\n",
    "display(error_df)\n",
    "len(error_df)\n",
    "infer[2]=[x,y]"
   ]
  },
  {
   "cell_type": "markdown",
   "metadata": {},
   "source": [
    "**Feature 4**\n",
    "\n",
    "First letter, last letter and second last: *The first and the 2 last letters of each word is analysed*\n",
    "\n",
    "The below function returns the first secondlast and last letters of the word as a dictionary *features*"
   ]
  },
  {
   "cell_type": "code",
   "execution_count": 15,
   "metadata": {},
   "outputs": [],
   "source": [
    "def gender_features2(name):\n",
    "    features = {}\n",
    "    features[\"firstletter\"] = name[0].lower()\n",
    "    features[\"lastletter\"] = name[-1].lower()\n",
    "    for letter in 'abcdefghijklmnopqrstuvwxyz':\n",
    "        features[\"count(%s)\" % letter] = name.lower().count(letter)\n",
    "        features[\"has(%s)\" % letter] = (letter in name.lower())\n",
    "    features[\"secondlastletter\"] = name[-2:].lower()\n",
    "    return features"
   ]
  },
  {
   "cell_type": "markdown",
   "metadata": {},
   "source": [
    "**Naive Bayes used for training on feature 4**\n",
    "\n",
    "NaiveBayesClassifier is used on the train set and the accuracy is tested on the devtest set. I am testing the performance with test set as well to analyse the results later on."
   ]
  },
  {
   "cell_type": "code",
   "execution_count": 16,
   "metadata": {},
   "outputs": [
    {
     "name": "stdout",
     "output_type": "stream",
     "text": [
      "Devtest accuracy 0.788\n",
      "Performance on the test set for feature 3: 0.82\n"
     ]
    },
    {
     "data": {
      "text/html": [
       "<div>\n",
       "<style scoped>\n",
       "    .dataframe tbody tr th:only-of-type {\n",
       "        vertical-align: middle;\n",
       "    }\n",
       "\n",
       "    .dataframe tbody tr th {\n",
       "        vertical-align: top;\n",
       "    }\n",
       "\n",
       "    .dataframe thead th {\n",
       "        text-align: right;\n",
       "    }\n",
       "</style>\n",
       "<table border=\"1\" class=\"dataframe\">\n",
       "  <thead>\n",
       "    <tr style=\"text-align: right;\">\n",
       "      <th></th>\n",
       "      <th>Observed</th>\n",
       "      <th>Predicted</th>\n",
       "      <th>Name</th>\n",
       "    </tr>\n",
       "  </thead>\n",
       "  <tbody>\n",
       "    <tr>\n",
       "      <th>0</th>\n",
       "      <td>female</td>\n",
       "      <td>male</td>\n",
       "      <td>Ulrike</td>\n",
       "    </tr>\n",
       "    <tr>\n",
       "      <th>1</th>\n",
       "      <td>male</td>\n",
       "      <td>female</td>\n",
       "      <td>Lawrence</td>\n",
       "    </tr>\n",
       "    <tr>\n",
       "      <th>2</th>\n",
       "      <td>female</td>\n",
       "      <td>male</td>\n",
       "      <td>Daffy</td>\n",
       "    </tr>\n",
       "    <tr>\n",
       "      <th>3</th>\n",
       "      <td>female</td>\n",
       "      <td>male</td>\n",
       "      <td>Sam</td>\n",
       "    </tr>\n",
       "    <tr>\n",
       "      <th>4</th>\n",
       "      <td>female</td>\n",
       "      <td>male</td>\n",
       "      <td>Margo</td>\n",
       "    </tr>\n",
       "    <tr>\n",
       "      <th>...</th>\n",
       "      <td>...</td>\n",
       "      <td>...</td>\n",
       "      <td>...</td>\n",
       "    </tr>\n",
       "    <tr>\n",
       "      <th>101</th>\n",
       "      <td>male</td>\n",
       "      <td>female</td>\n",
       "      <td>Maurie</td>\n",
       "    </tr>\n",
       "    <tr>\n",
       "      <th>102</th>\n",
       "      <td>female</td>\n",
       "      <td>male</td>\n",
       "      <td>Delores</td>\n",
       "    </tr>\n",
       "    <tr>\n",
       "      <th>103</th>\n",
       "      <td>female</td>\n",
       "      <td>male</td>\n",
       "      <td>Penny</td>\n",
       "    </tr>\n",
       "    <tr>\n",
       "      <th>104</th>\n",
       "      <td>male</td>\n",
       "      <td>female</td>\n",
       "      <td>Rickie</td>\n",
       "    </tr>\n",
       "    <tr>\n",
       "      <th>105</th>\n",
       "      <td>female</td>\n",
       "      <td>male</td>\n",
       "      <td>Cristin</td>\n",
       "    </tr>\n",
       "  </tbody>\n",
       "</table>\n",
       "<p>106 rows × 3 columns</p>\n",
       "</div>"
      ],
      "text/plain": [
       "    Observed Predicted      Name\n",
       "0     female      male    Ulrike\n",
       "1       male    female  Lawrence\n",
       "2     female      male     Daffy\n",
       "3     female      male       Sam\n",
       "4     female      male     Margo\n",
       "..       ...       ...       ...\n",
       "101     male    female    Maurie\n",
       "102   female      male   Delores\n",
       "103   female      male     Penny\n",
       "104     male    female    Rickie\n",
       "105   female      male   Cristin\n",
       "\n",
       "[106 rows x 3 columns]"
      ]
     },
     "metadata": {},
     "output_type": "display_data"
    }
   ],
   "source": [
    "train_set = [(gender_features2(n), g) for (n,g) in train]\n",
    "devtest_set = [(gender_features2(n), g) for (n,g) in devtest]\n",
    "classifier = nltk.NaiveBayesClassifier.train(train_set)\n",
    "x=nltk.classify.accuracy(classifier, devtest_set)\n",
    "print(\"Devtest accuracy\",x)\n",
    "test_set=[(gender_features2(n), g) for (n,g) in test]\n",
    "y=nltk.classify.accuracy(classifier, test_set)\n",
    "print(\"Performance on the test set for feature 3:\",y)\n",
    "errors=error_fn(gender_features2)\n",
    "error_df=pd.DataFrame(errors,columns=['Observed','Predicted','Name'])\n",
    "display(error_df)\n",
    "len(error_df)\n",
    "infer[3]=[x,y]"
   ]
  },
  {
   "cell_type": "markdown",
   "metadata": {},
   "source": [
    "**Feature 5**\n",
    "\n",
    "first letter, last letter and second and third last: *The first and the 3 last letters of each word is analysed*\n",
    "\n",
    "The below function returns the first thirdlast secondlast and last letters of the word as a dictionary *features*"
   ]
  },
  {
   "cell_type": "code",
   "execution_count": 17,
   "metadata": {},
   "outputs": [],
   "source": [
    "def gender_features3(name):\n",
    "    features = {}\n",
    "    features[\"firstletter\"] = name[0].lower()\n",
    "    features[\"lastletter\"] = name[-1].lower()\n",
    "    for letter in 'abcdefghijklmnopqrstuvwxyz':\n",
    "        features[\"count(%s)\" % letter] = name.lower().count(letter)\n",
    "        features[\"has(%s)\" % letter] = (letter in name.lower())\n",
    "    features[\"secondlastletter\"] = name[-2:].lower()\n",
    "    features[\"thirdlastletter\"] = name[-3:].lower()\n",
    "    return features"
   ]
  },
  {
   "cell_type": "markdown",
   "metadata": {},
   "source": [
    "**Naive Bayes used for training on feature 5**\n",
    "\n",
    "NaiveBayesClassifier is used on the train set and the accuracy is tested on the devtest set. I am testing the performance with test set as well to analyse the results later on."
   ]
  },
  {
   "cell_type": "code",
   "execution_count": 18,
   "metadata": {},
   "outputs": [
    {
     "name": "stdout",
     "output_type": "stream",
     "text": [
      "Devtest accuracy 0.81\n",
      "Performance on the test set for feature 4: 0.814\n"
     ]
    },
    {
     "data": {
      "text/html": [
       "<div>\n",
       "<style scoped>\n",
       "    .dataframe tbody tr th:only-of-type {\n",
       "        vertical-align: middle;\n",
       "    }\n",
       "\n",
       "    .dataframe tbody tr th {\n",
       "        vertical-align: top;\n",
       "    }\n",
       "\n",
       "    .dataframe thead th {\n",
       "        text-align: right;\n",
       "    }\n",
       "</style>\n",
       "<table border=\"1\" class=\"dataframe\">\n",
       "  <thead>\n",
       "    <tr style=\"text-align: right;\">\n",
       "      <th></th>\n",
       "      <th>Observed</th>\n",
       "      <th>Predicted</th>\n",
       "      <th>Name</th>\n",
       "    </tr>\n",
       "  </thead>\n",
       "  <tbody>\n",
       "    <tr>\n",
       "      <th>0</th>\n",
       "      <td>female</td>\n",
       "      <td>male</td>\n",
       "      <td>Ulrike</td>\n",
       "    </tr>\n",
       "    <tr>\n",
       "      <th>1</th>\n",
       "      <td>female</td>\n",
       "      <td>male</td>\n",
       "      <td>Daffy</td>\n",
       "    </tr>\n",
       "    <tr>\n",
       "      <th>2</th>\n",
       "      <td>female</td>\n",
       "      <td>male</td>\n",
       "      <td>Sam</td>\n",
       "    </tr>\n",
       "    <tr>\n",
       "      <th>3</th>\n",
       "      <td>female</td>\n",
       "      <td>male</td>\n",
       "      <td>Margo</td>\n",
       "    </tr>\n",
       "    <tr>\n",
       "      <th>4</th>\n",
       "      <td>female</td>\n",
       "      <td>male</td>\n",
       "      <td>Vicky</td>\n",
       "    </tr>\n",
       "    <tr>\n",
       "      <th>...</th>\n",
       "      <td>...</td>\n",
       "      <td>...</td>\n",
       "      <td>...</td>\n",
       "    </tr>\n",
       "    <tr>\n",
       "      <th>90</th>\n",
       "      <td>male</td>\n",
       "      <td>female</td>\n",
       "      <td>Maurie</td>\n",
       "    </tr>\n",
       "    <tr>\n",
       "      <th>91</th>\n",
       "      <td>female</td>\n",
       "      <td>male</td>\n",
       "      <td>Delores</td>\n",
       "    </tr>\n",
       "    <tr>\n",
       "      <th>92</th>\n",
       "      <td>female</td>\n",
       "      <td>male</td>\n",
       "      <td>Penny</td>\n",
       "    </tr>\n",
       "    <tr>\n",
       "      <th>93</th>\n",
       "      <td>male</td>\n",
       "      <td>female</td>\n",
       "      <td>Rickie</td>\n",
       "    </tr>\n",
       "    <tr>\n",
       "      <th>94</th>\n",
       "      <td>female</td>\n",
       "      <td>male</td>\n",
       "      <td>Cristin</td>\n",
       "    </tr>\n",
       "  </tbody>\n",
       "</table>\n",
       "<p>95 rows × 3 columns</p>\n",
       "</div>"
      ],
      "text/plain": [
       "   Observed Predicted     Name\n",
       "0    female      male   Ulrike\n",
       "1    female      male    Daffy\n",
       "2    female      male      Sam\n",
       "3    female      male    Margo\n",
       "4    female      male    Vicky\n",
       "..      ...       ...      ...\n",
       "90     male    female   Maurie\n",
       "91   female      male  Delores\n",
       "92   female      male    Penny\n",
       "93     male    female   Rickie\n",
       "94   female      male  Cristin\n",
       "\n",
       "[95 rows x 3 columns]"
      ]
     },
     "metadata": {},
     "output_type": "display_data"
    }
   ],
   "source": [
    "train_set = [(gender_features3(n), g) for (n,g) in train]\n",
    "devtest_set = [(gender_features3(n), g) for (n,g) in devtest]\n",
    "classifier = nltk.NaiveBayesClassifier.train(train_set)\n",
    "x=nltk.classify.accuracy(classifier, devtest_set)\n",
    "print(\"Devtest accuracy\",x)\n",
    "test_set=[(gender_features3(n), g) for (n,g) in test]\n",
    "y=nltk.classify.accuracy(classifier, test_set)\n",
    "print(\"Performance on the test set for feature 4:\",y)\n",
    "errors=error_fn(gender_features3)\n",
    "error_df=pd.DataFrame(errors,columns=['Observed','Predicted','Name'])\n",
    "display(error_df)\n",
    "len(error_df)\n",
    "infer[4]=[x,y]"
   ]
  },
  {
   "cell_type": "markdown",
   "metadata": {},
   "source": [
    "The infer dataframe is displayed below"
   ]
  },
  {
   "cell_type": "code",
   "execution_count": 20,
   "metadata": {},
   "outputs": [
    {
     "data": {
      "text/html": [
       "<div>\n",
       "<style scoped>\n",
       "    .dataframe tbody tr th:only-of-type {\n",
       "        vertical-align: middle;\n",
       "    }\n",
       "\n",
       "    .dataframe tbody tr th {\n",
       "        vertical-align: top;\n",
       "    }\n",
       "\n",
       "    .dataframe thead th {\n",
       "        text-align: right;\n",
       "    }\n",
       "</style>\n",
       "<table border=\"1\" class=\"dataframe\">\n",
       "  <thead>\n",
       "    <tr style=\"text-align: right;\">\n",
       "      <th></th>\n",
       "      <th>First</th>\n",
       "      <th>Last</th>\n",
       "      <th>First Last</th>\n",
       "      <th>First 2 Lasts</th>\n",
       "      <th>First 3 Lasts</th>\n",
       "    </tr>\n",
       "  </thead>\n",
       "  <tbody>\n",
       "    <tr>\n",
       "      <th>Devtest Accuracy</th>\n",
       "      <td>0.624</td>\n",
       "      <td>0.780</td>\n",
       "      <td>0.782</td>\n",
       "      <td>0.788</td>\n",
       "      <td>0.810</td>\n",
       "    </tr>\n",
       "    <tr>\n",
       "      <th>Test Performamce</th>\n",
       "      <td>0.646</td>\n",
       "      <td>0.778</td>\n",
       "      <td>0.796</td>\n",
       "      <td>0.820</td>\n",
       "      <td>0.814</td>\n",
       "    </tr>\n",
       "  </tbody>\n",
       "</table>\n",
       "</div>"
      ],
      "text/plain": [
       "                  First   Last  First Last  First 2 Lasts  First 3 Lasts\n",
       "Devtest Accuracy  0.624  0.780       0.782          0.788          0.810\n",
       "Test Performamce  0.646  0.778       0.796          0.820          0.814"
      ]
     },
     "metadata": {},
     "output_type": "display_data"
    }
   ],
   "source": [
    "infer.columns=['First','Last','First Last','First 2 Lasts','First 3 Lasts']\n",
    "\n",
    "display(infer)"
   ]
  },
  {
   "cell_type": "markdown",
   "metadata": {},
   "source": [
    "**Conclusion**"
   ]
  },
  {
   "cell_type": "markdown",
   "metadata": {},
   "source": [
    "From above it can be seen that feature 4 (first and last 2) was the best out of the 5 features I chose.\n",
    "\n",
    "There were slight changes between the devtest and test sets accuracy but the difference is insignificant."
   ]
  },
  {
   "cell_type": "markdown",
   "metadata": {},
   "source": [
    "**Video**"
   ]
  },
  {
   "cell_type": "markdown",
   "metadata": {},
   "source": [
    "https://youtu.be/CrNuNJrHK58 "
   ]
  },
  {
   "cell_type": "code",
   "execution_count": null,
   "metadata": {},
   "outputs": [],
   "source": []
  }
 ],
 "metadata": {
  "kernelspec": {
   "display_name": "Python 3",
   "language": "python",
   "name": "python3"
  },
  "language_info": {
   "codemirror_mode": {
    "name": "ipython",
    "version": 3
   },
   "file_extension": ".py",
   "mimetype": "text/x-python",
   "name": "python",
   "nbconvert_exporter": "python",
   "pygments_lexer": "ipython3",
   "version": "3.8.5"
  }
 },
 "nbformat": 4,
 "nbformat_minor": 4
}
